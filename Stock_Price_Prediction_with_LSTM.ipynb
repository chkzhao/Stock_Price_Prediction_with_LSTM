{
  "nbformat": 4,
  "nbformat_minor": 0,
  "metadata": {
    "colab": {
      "name": "Stock_Price_Prediction_with_LSTM.ipynb",
      "provenance": []
    },
    "kernelspec": {
      "name": "python3",
      "display_name": "Python 3"
    },
    "language_info": {
      "name": "python"
    }
  },
  "cells": [
    {
      "cell_type": "markdown",
      "source": [
        "# Stock Price Prediction with LSTM\n",
        "\n",
        "In this project, I perform time series prediction using a Recurrent Neural network(RNN) regressor. For this example, I will predict PNC's stock price 7 days in advance.\n",
        "\n",
        "The particular network architecture I will employ for my RNN is Long Term Short Memory (LSTM), which helps significantly avoid technical problems with optimization of RNNs.\n",
        "\n",
        "Pytorch LSTM Stock Predictor - This is a Pytorch version of the original Keras Stock Predictor provided by Super DataScience, and also available elsewhere in this repo as a notebook."
      ],
      "metadata": {
        "id": "tA9-NbPKYGx1"
      }
    },
    {
      "cell_type": "markdown",
      "source": [
        "## Step 1: Loading the data\n",
        "\n",
        "First load in the time series - a history of around 140 days of Apple's stock price. Then we need to perform a number of pre-processing steps to prepare it for use with an RNN model.  First off, it is good practice to normalize time series - by normalizing its range.  This helps us avoid serious numerical issues associated how common activation functions (like tanh) transform very large (positive or negative) numbers, as well as helping us to avoid related issues when computing derivatives.\n",
        "\n",
        "Here we normalize the series to lie in the range [0,1] [using this scikit function](http://scikit-learn.org/stable/modules/generated/sklearn.preprocessing.MinMaxScaler.html)."
      ],
      "metadata": {
        "id": "KKKaX4uq2-rH"
      }
    },
    {
      "cell_type": "code",
      "execution_count": 1,
      "metadata": {
        "id": "4nYi2e2rX3_k",
        "colab": {
          "base_uri": "https://localhost:8080/"
        },
        "outputId": "dee28cd5-8c51-402b-f5bd-546111b77fa5"
      },
      "outputs": [
        {
          "output_type": "stream",
          "name": "stdout",
          "text": [
            "--2022-03-14 13:45:28--  https://raw.githubusercontent.com/tonylaioffer/stock-prediction-lstm-using-keras/master/data/sandp500/all_stocks_5yr.csv\n",
            "Resolving raw.githubusercontent.com (raw.githubusercontent.com)... 185.199.108.133, 185.199.109.133, 185.199.110.133, ...\n",
            "Connecting to raw.githubusercontent.com (raw.githubusercontent.com)|185.199.108.133|:443... connected.\n",
            "HTTP request sent, awaiting response... 200 OK\n",
            "Length: 29580549 (28M) [text/plain]\n",
            "Saving to: ‘all_stocks_5yr.csv’\n",
            "\n",
            "all_stocks_5yr.csv  100%[===================>]  28.21M   106MB/s    in 0.3s    \n",
            "\n",
            "2022-03-14 13:45:29 (106 MB/s) - ‘all_stocks_5yr.csv’ saved [29580549/29580549]\n",
            "\n"
          ]
        }
      ],
      "source": [
        "# download the data\n",
        "!wget https://raw.githubusercontent.com/tonylaioffer/stock-prediction-lstm-using-keras/master/data/sandp500/all_stocks_5yr.csv"
      ]
    },
    {
      "cell_type": "code",
      "source": [
        "!ls"
      ],
      "metadata": {
        "colab": {
          "base_uri": "https://localhost:8080/"
        },
        "id": "Z-RVeMK-Qukt",
        "outputId": "48cfd372-26dc-4109-aae3-d1bda2a73485"
      },
      "execution_count": 2,
      "outputs": [
        {
          "output_type": "stream",
          "name": "stdout",
          "text": [
            "all_stocks_5yr.csv  sample_data\n"
          ]
        }
      ]
    },
    {
      "cell_type": "code",
      "source": [
        "import numpy as np\n",
        "import pandas as pd\n",
        "import matplotlib.pyplot as plt\n",
        "\n",
        "import torch.nn as nn\n",
        "import torch\n",
        "from torch.autograd import Variable\n",
        "from torch.utils.data import Dataset, DataLoader"
      ],
      "metadata": {
        "id": "IFVFAFjnQugz"
      },
      "execution_count": 3,
      "outputs": []
    },
    {
      "cell_type": "code",
      "source": [
        "# Importing the training set\n",
        "df_all_stocks = pd.read_csv('./all_stocks_5yr.csv')\n",
        "data_pnc = df_all_stocks[df_all_stocks[\"Name\"] == \"PNC\"].close.values"
      ],
      "metadata": {
        "id": "ey7xJ6dYQ1x7"
      },
      "execution_count": 4,
      "outputs": []
    },
    {
      "cell_type": "code",
      "source": [
        "df_all_stocks.head()"
      ],
      "metadata": {
        "colab": {
          "base_uri": "https://localhost:8080/",
          "height": 206
        },
        "id": "mOP7agVLQ2nM",
        "outputId": "c1c85dd5-f55e-4393-dc20-9d4341a4dd4c"
      },
      "execution_count": 5,
      "outputs": [
        {
          "output_type": "execute_result",
          "data": {
            "text/plain": [
              "         date   open   high    low  close    volume Name\n",
              "0  2013-02-08  15.07  15.12  14.63  14.75   8407500  AAL\n",
              "1  2013-02-11  14.89  15.01  14.26  14.46   8882000  AAL\n",
              "2  2013-02-12  14.45  14.51  14.10  14.27   8126000  AAL\n",
              "3  2013-02-13  14.30  14.94  14.25  14.66  10259500  AAL\n",
              "4  2013-02-14  14.94  14.96  13.16  13.99  31879900  AAL"
            ],
            "text/html": [
              "\n",
              "  <div id=\"df-0b625390-cc76-4b96-9c83-0cd80064317c\">\n",
              "    <div class=\"colab-df-container\">\n",
              "      <div>\n",
              "<style scoped>\n",
              "    .dataframe tbody tr th:only-of-type {\n",
              "        vertical-align: middle;\n",
              "    }\n",
              "\n",
              "    .dataframe tbody tr th {\n",
              "        vertical-align: top;\n",
              "    }\n",
              "\n",
              "    .dataframe thead th {\n",
              "        text-align: right;\n",
              "    }\n",
              "</style>\n",
              "<table border=\"1\" class=\"dataframe\">\n",
              "  <thead>\n",
              "    <tr style=\"text-align: right;\">\n",
              "      <th></th>\n",
              "      <th>date</th>\n",
              "      <th>open</th>\n",
              "      <th>high</th>\n",
              "      <th>low</th>\n",
              "      <th>close</th>\n",
              "      <th>volume</th>\n",
              "      <th>Name</th>\n",
              "    </tr>\n",
              "  </thead>\n",
              "  <tbody>\n",
              "    <tr>\n",
              "      <th>0</th>\n",
              "      <td>2013-02-08</td>\n",
              "      <td>15.07</td>\n",
              "      <td>15.12</td>\n",
              "      <td>14.63</td>\n",
              "      <td>14.75</td>\n",
              "      <td>8407500</td>\n",
              "      <td>AAL</td>\n",
              "    </tr>\n",
              "    <tr>\n",
              "      <th>1</th>\n",
              "      <td>2013-02-11</td>\n",
              "      <td>14.89</td>\n",
              "      <td>15.01</td>\n",
              "      <td>14.26</td>\n",
              "      <td>14.46</td>\n",
              "      <td>8882000</td>\n",
              "      <td>AAL</td>\n",
              "    </tr>\n",
              "    <tr>\n",
              "      <th>2</th>\n",
              "      <td>2013-02-12</td>\n",
              "      <td>14.45</td>\n",
              "      <td>14.51</td>\n",
              "      <td>14.10</td>\n",
              "      <td>14.27</td>\n",
              "      <td>8126000</td>\n",
              "      <td>AAL</td>\n",
              "    </tr>\n",
              "    <tr>\n",
              "      <th>3</th>\n",
              "      <td>2013-02-13</td>\n",
              "      <td>14.30</td>\n",
              "      <td>14.94</td>\n",
              "      <td>14.25</td>\n",
              "      <td>14.66</td>\n",
              "      <td>10259500</td>\n",
              "      <td>AAL</td>\n",
              "    </tr>\n",
              "    <tr>\n",
              "      <th>4</th>\n",
              "      <td>2013-02-14</td>\n",
              "      <td>14.94</td>\n",
              "      <td>14.96</td>\n",
              "      <td>13.16</td>\n",
              "      <td>13.99</td>\n",
              "      <td>31879900</td>\n",
              "      <td>AAL</td>\n",
              "    </tr>\n",
              "  </tbody>\n",
              "</table>\n",
              "</div>\n",
              "      <button class=\"colab-df-convert\" onclick=\"convertToInteractive('df-0b625390-cc76-4b96-9c83-0cd80064317c')\"\n",
              "              title=\"Convert this dataframe to an interactive table.\"\n",
              "              style=\"display:none;\">\n",
              "        \n",
              "  <svg xmlns=\"http://www.w3.org/2000/svg\" height=\"24px\"viewBox=\"0 0 24 24\"\n",
              "       width=\"24px\">\n",
              "    <path d=\"M0 0h24v24H0V0z\" fill=\"none\"/>\n",
              "    <path d=\"M18.56 5.44l.94 2.06.94-2.06 2.06-.94-2.06-.94-.94-2.06-.94 2.06-2.06.94zm-11 1L8.5 8.5l.94-2.06 2.06-.94-2.06-.94L8.5 2.5l-.94 2.06-2.06.94zm10 10l.94 2.06.94-2.06 2.06-.94-2.06-.94-.94-2.06-.94 2.06-2.06.94z\"/><path d=\"M17.41 7.96l-1.37-1.37c-.4-.4-.92-.59-1.43-.59-.52 0-1.04.2-1.43.59L10.3 9.45l-7.72 7.72c-.78.78-.78 2.05 0 2.83L4 21.41c.39.39.9.59 1.41.59.51 0 1.02-.2 1.41-.59l7.78-7.78 2.81-2.81c.8-.78.8-2.07 0-2.86zM5.41 20L4 18.59l7.72-7.72 1.47 1.35L5.41 20z\"/>\n",
              "  </svg>\n",
              "      </button>\n",
              "      \n",
              "  <style>\n",
              "    .colab-df-container {\n",
              "      display:flex;\n",
              "      flex-wrap:wrap;\n",
              "      gap: 12px;\n",
              "    }\n",
              "\n",
              "    .colab-df-convert {\n",
              "      background-color: #E8F0FE;\n",
              "      border: none;\n",
              "      border-radius: 50%;\n",
              "      cursor: pointer;\n",
              "      display: none;\n",
              "      fill: #1967D2;\n",
              "      height: 32px;\n",
              "      padding: 0 0 0 0;\n",
              "      width: 32px;\n",
              "    }\n",
              "\n",
              "    .colab-df-convert:hover {\n",
              "      background-color: #E2EBFA;\n",
              "      box-shadow: 0px 1px 2px rgba(60, 64, 67, 0.3), 0px 1px 3px 1px rgba(60, 64, 67, 0.15);\n",
              "      fill: #174EA6;\n",
              "    }\n",
              "\n",
              "    [theme=dark] .colab-df-convert {\n",
              "      background-color: #3B4455;\n",
              "      fill: #D2E3FC;\n",
              "    }\n",
              "\n",
              "    [theme=dark] .colab-df-convert:hover {\n",
              "      background-color: #434B5C;\n",
              "      box-shadow: 0px 1px 3px 1px rgba(0, 0, 0, 0.15);\n",
              "      filter: drop-shadow(0px 1px 2px rgba(0, 0, 0, 0.3));\n",
              "      fill: #FFFFFF;\n",
              "    }\n",
              "  </style>\n",
              "\n",
              "      <script>\n",
              "        const buttonEl =\n",
              "          document.querySelector('#df-0b625390-cc76-4b96-9c83-0cd80064317c button.colab-df-convert');\n",
              "        buttonEl.style.display =\n",
              "          google.colab.kernel.accessAllowed ? 'block' : 'none';\n",
              "\n",
              "        async function convertToInteractive(key) {\n",
              "          const element = document.querySelector('#df-0b625390-cc76-4b96-9c83-0cd80064317c');\n",
              "          const dataTable =\n",
              "            await google.colab.kernel.invokeFunction('convertToInteractive',\n",
              "                                                     [key], {});\n",
              "          if (!dataTable) return;\n",
              "\n",
              "          const docLinkHtml = 'Like what you see? Visit the ' +\n",
              "            '<a target=\"_blank\" href=https://colab.research.google.com/notebooks/data_table.ipynb>data table notebook</a>'\n",
              "            + ' to learn more about interactive tables.';\n",
              "          element.innerHTML = '';\n",
              "          dataTable['output_type'] = 'display_data';\n",
              "          await google.colab.output.renderOutput(dataTable, element);\n",
              "          const docLink = document.createElement('div');\n",
              "          docLink.innerHTML = docLinkHtml;\n",
              "          element.appendChild(docLink);\n",
              "        }\n",
              "      </script>\n",
              "    </div>\n",
              "  </div>\n",
              "  "
            ]
          },
          "metadata": {},
          "execution_count": 5
        }
      ]
    },
    {
      "cell_type": "code",
      "source": [
        "data_pnc[0:10]"
      ],
      "metadata": {
        "colab": {
          "base_uri": "https://localhost:8080/"
        },
        "id": "20H3uL2aUfGr",
        "outputId": "4319f6f1-35a8-4046-9ff8-9ec128760b2f"
      },
      "execution_count": 6,
      "outputs": [
        {
          "output_type": "execute_result",
          "data": {
            "text/plain": [
              "array([63.35, 64.  , 64.77, 64.17, 63.87, 63.87, 63.51, 63.17, 62.39,\n",
              "       62.9 ])"
            ]
          },
          "metadata": {},
          "execution_count": 6
        }
      ]
    },
    {
      "cell_type": "code",
      "source": [
        "df_all_stocks.Name.unique()"
      ],
      "metadata": {
        "colab": {
          "base_uri": "https://localhost:8080/"
        },
        "id": "EupbwCSzUfC0",
        "outputId": "8af90b41-e93a-40fc-f9d7-5777a9db2164"
      },
      "execution_count": 7,
      "outputs": [
        {
          "output_type": "execute_result",
          "data": {
            "text/plain": [
              "array(['AAL', 'AAPL', 'AAP', 'ABBV', 'ABC', 'ABT', 'ACN', 'ADBE', 'ADI',\n",
              "       'ADM', 'ADP', 'ADSK', 'ADS', 'AEE', 'AEP', 'AES', 'AET', 'AFL',\n",
              "       'AGN', 'AIG', 'AIV', 'AIZ', 'AJG', 'AKAM', 'ALB', 'ALGN', 'ALK',\n",
              "       'ALLE', 'ALL', 'ALXN', 'AMAT', 'AMD', 'AME', 'AMGN', 'AMG', 'AMP',\n",
              "       'AMT', 'AMZN', 'ANDV', 'ANSS', 'ANTM', 'AON', 'AOS', 'APA', 'APC',\n",
              "       'APD', 'APH', 'APTV', 'ARE', 'ARNC', 'ATVI', 'AVB', 'AVGO', 'AVY',\n",
              "       'AWK', 'AXP', 'AYI', 'AZO', 'A', 'BAC', 'BAX', 'BA', 'BBT', 'BBY',\n",
              "       'BDX', 'BEN', 'BF.B', 'BHF', 'BHGE', 'BIIB', 'BK', 'BLK', 'BLL',\n",
              "       'BMY', 'BRK.B', 'BSX', 'BWA', 'BXP', 'CAG', 'CAH', 'CAT', 'CA',\n",
              "       'CBG', 'CBOE', 'CBS', 'CB', 'CCI', 'CCL', 'CDNS', 'CELG', 'CERN',\n",
              "       'CFG', 'CF', 'CHD', 'CHK', 'CHRW', 'CHTR', 'CINF', 'CI', 'CLX',\n",
              "       'CL', 'CMA', 'CMCSA', 'CME', 'CMG', 'CMI', 'CMS', 'CNC', 'CNP',\n",
              "       'COF', 'COG', 'COL', 'COO', 'COP', 'COST', 'COTY', 'CPB', 'CRM',\n",
              "       'CSCO', 'CSRA', 'CSX', 'CTAS', 'CTL', 'CTSH', 'CTXS', 'CVS', 'CVX',\n",
              "       'CXO', 'C', 'DAL', 'DE', 'DFS', 'DGX', 'DG', 'DHI', 'DHR', 'DISCA',\n",
              "       'DISCK', 'DISH', 'DIS', 'DLR', 'DLTR', 'DOV', 'DPS', 'DRE', 'DRI',\n",
              "       'DTE', 'DUK', 'DVA', 'DVN', 'DWDP', 'DXC', 'D', 'EA', 'EBAY',\n",
              "       'ECL', 'ED', 'EFX', 'EIX', 'EL', 'EMN', 'EMR', 'EOG', 'EQIX',\n",
              "       'EQR', 'EQT', 'ESRX', 'ESS', 'ES', 'ETFC', 'ETN', 'ETR', 'EVHC',\n",
              "       'EW', 'EXC', 'EXPD', 'EXPE', 'EXR', 'FAST', 'FBHS', 'FB', 'FCX',\n",
              "       'FDX', 'FE', 'FFIV', 'FISV', 'FIS', 'FITB', 'FLIR', 'FLR', 'FLS',\n",
              "       'FL', 'FMC', 'FOXA', 'FOX', 'FRT', 'FTI', 'FTV', 'F', 'GD', 'GE',\n",
              "       'GGP', 'GILD', 'GIS', 'GLW', 'GM', 'GOOGL', 'GOOG', 'GPC', 'GPN',\n",
              "       'GPS', 'GRMN', 'GS', 'GT', 'GWW', 'HAL', 'HAS', 'HBAN', 'HBI',\n",
              "       'HCA', 'HCN', 'HCP', 'HD', 'HES', 'HIG', 'HII', 'HLT', 'HOG',\n",
              "       'HOLX', 'HON', 'HPE', 'HPQ', 'HP', 'HRB', 'HRL', 'HRS', 'HSIC',\n",
              "       'HST', 'HSY', 'HUM', 'IBM', 'ICE', 'IDXX', 'IFF', 'ILMN', 'INCY',\n",
              "       'INFO', 'INTC', 'INTU', 'IPG', 'IP', 'IQV', 'IRM', 'IR', 'ISRG',\n",
              "       'ITW', 'IT', 'IVZ', 'JBHT', 'JCI', 'JEC', 'JNJ', 'JNPR', 'JPM',\n",
              "       'JWN', 'KEY', 'KHC', 'KIM', 'KLAC', 'KMB', 'KMI', 'KMX', 'KORS',\n",
              "       'KO', 'KR', 'KSS', 'KSU', 'K', 'LB', 'LEG', 'LEN', 'LH', 'LKQ',\n",
              "       'LLL', 'LLY', 'LMT', 'LNC', 'LNT', 'LOW', 'LRCX', 'LUK', 'LUV',\n",
              "       'LYB', 'L', 'MAA', 'MAC', 'MAR', 'MAS', 'MAT', 'MA', 'MCD', 'MCHP',\n",
              "       'MCK', 'MCO', 'MDLZ', 'MDT', 'MET', 'MGM', 'MHK', 'MKC', 'MLM',\n",
              "       'MMC', 'MMM', 'MNST', 'MON', 'MOS', 'MO', 'MPC', 'MRK', 'MRO',\n",
              "       'MSFT', 'MSI', 'MS', 'MTB', 'MTD', 'MU', 'MYL', 'M', 'NAVI', 'NBL',\n",
              "       'NCLH', 'NDAQ', 'NEE', 'NEM', 'NFLX', 'NFX', 'NI', 'NKE', 'NLSN',\n",
              "       'NOC', 'NOV', 'NRG', 'NSC', 'NTAP', 'NTRS', 'NUE', 'NVDA', 'NWL',\n",
              "       'NWSA', 'NWS', 'OKE', 'OMC', 'ORCL', 'ORLY', 'OXY', 'O', 'PAYX',\n",
              "       'PBCT', 'PCAR', 'PCG', 'PCLN', 'PDCO', 'PEG', 'PEP', 'PFE', 'PFG',\n",
              "       'PGR', 'PG', 'PHM', 'PH', 'PKG', 'PKI', 'PLD', 'PM', 'PNC', 'PNR',\n",
              "       'PNW', 'PPG', 'PPL', 'PRGO', 'PRU', 'PSA', 'PSX', 'PVH', 'PWR',\n",
              "       'PXD', 'PX', 'PYPL', 'QCOM', 'QRVO', 'RCL', 'REGN', 'REG', 'RE',\n",
              "       'RF', 'RHI', 'RHT', 'RJF', 'RL', 'RMD', 'ROK', 'ROP', 'ROST',\n",
              "       'RRC', 'RSG', 'RTN', 'SBAC', 'SBUX', 'SCG', 'SCHW', 'SEE', 'SHW',\n",
              "       'SIG', 'SJM', 'SLB', 'SLG', 'SNA', 'SNI', 'SNPS', 'SO', 'SPGI',\n",
              "       'SPG', 'SRCL', 'SRE', 'STI', 'STT', 'STX', 'STZ', 'SWKS', 'SWK',\n",
              "       'SYF', 'SYK', 'SYMC', 'SYY', 'TAP', 'TDG', 'TEL', 'TGT', 'TIF',\n",
              "       'TJX', 'TMK', 'TMO', 'TPR', 'TRIP', 'TROW', 'TRV', 'TSCO', 'TSN',\n",
              "       'TSS', 'TWX', 'TXN', 'TXT', 'T', 'UAA', 'UAL', 'UA', 'UDR', 'UHS',\n",
              "       'ULTA', 'UNH', 'UNM', 'UNP', 'UPS', 'URI', 'USB', 'UTX', 'VAR',\n",
              "       'VFC', 'VIAB', 'VLO', 'VMC', 'VNO', 'VRSK', 'VRSN', 'VRTX', 'VTR',\n",
              "       'VZ', 'V', 'WAT', 'WBA', 'WDC', 'WEC', 'WFC', 'WHR', 'WLTW', 'WMB',\n",
              "       'WMT', 'WM', 'WRK', 'WU', 'WYNN', 'WYN', 'WY', 'XEC', 'XEL',\n",
              "       'XLNX', 'XL', 'XOM', 'XRAY', 'XRX', 'XYL', 'YUM', 'ZBH', 'ZION',\n",
              "       'ZTS'], dtype=object)"
            ]
          },
          "metadata": {},
          "execution_count": 7
        }
      ]
    },
    {
      "cell_type": "code",
      "source": [
        "# Feature Scaling\n",
        "from sklearn.preprocessing import MinMaxScaler\n",
        "\n",
        "scaler = MinMaxScaler(feature_range=(0, 1))\n",
        "\n",
        "# scale the data\n",
        "data_pnc = data_pnc.reshape(data_pnc.shape[0], 1)\n",
        "data_pnc = scaler.fit_transform(data_pnc)"
      ],
      "metadata": {
        "id": "LuB6AqSBUe_-"
      },
      "execution_count": 8,
      "outputs": []
    },
    {
      "cell_type": "code",
      "source": [
        "data_pnc[0:10]"
      ],
      "metadata": {
        "colab": {
          "base_uri": "https://localhost:8080/"
        },
        "id": "1xqruaP9Ue9H",
        "outputId": "ada2bdf3-2391-452d-bad0-78f19f24653a"
      },
      "execution_count": 9,
      "outputs": [
        {
          "output_type": "execute_result",
          "data": {
            "text/plain": [
              "array([[0.025714  ],\n",
              "       [0.03232036],\n",
              "       [0.04014636],\n",
              "       [0.03404818],\n",
              "       [0.03099909],\n",
              "       [0.03099909],\n",
              "       [0.02734018],\n",
              "       [0.02388454],\n",
              "       [0.01595691],\n",
              "       [0.02114036]])"
            ]
          },
          "metadata": {},
          "execution_count": 9
        }
      ]
    },
    {
      "cell_type": "markdown",
      "source": [
        "## Step 2:  Cutting our time series into sequences\n",
        "\n",
        "Remember, our time series is a sequence of numbers that we can represent in general mathematically as \n",
        "\n",
        "$$s_{0},s_{1},s_{2},...,s_{P}$$\n",
        "\n",
        "where $s_{p}$ is the numerical value of the time series at time period $p$ and where $P$ is the total length of the series.  In order to apply our RNN we treat the time series prediction problem as a regression problem, and so need to use a sliding window to construct a set of associated input/output pairs to regress on.  This process is animated in the gif below.\n",
        "\n",
        "<img src=\"https://github.com/tonylaioffer/stock-prediction-lstm-using-keras/raw/master/images/timeseries_windowing_training.gif\" width=600 height=288/>\n",
        "\n",
        "For example - using a window of size T = 5 (as illustrated in the gif above) we produce a set of input/output pairs like the one shown in the table below\n",
        "\n",
        "$$\\begin{array}{c|c}\n",
        "\\text{Input} & \\text{Output}\\\\\n",
        "\\hline \\color{CornflowerBlue} {\\langle s_{1},s_{2},s_{3},s_{4},s_{5}\\rangle} & \\color{Goldenrod}{ s_{6}} \\\\\n",
        "\\ \\color{CornflowerBlue} {\\langle s_{2},s_{3},s_{4},s_{5},s_{6} \\rangle } & \\color{Goldenrod} {s_{7} } \\\\\n",
        "\\color{CornflowerBlue}  {\\vdots} & \\color{Goldenrod} {\\vdots}\\\\\n",
        "\\color{CornflowerBlue} { \\langle s_{P-5},s_{P-4},s_{P-3},s_{P-2},s_{P-1} \\rangle } & \\color{Goldenrod} {s_{P}}\n",
        "\\end{array}$$\n",
        "\n",
        "Notice here that each input is a sequence (or vector) of length 4 (and in general has length equal to the window size T) while each corresponding output is a scalar value.  Notice also how given a time series of length P and window size T = 5 as shown above, we created P - 5  input/output pairs.  More generally, for a window size T we create P - T such pairs.\n",
        "\n",
        "Now let's window the input time series as described above!  "
      ],
      "metadata": {
        "id": "6p0-qrhBdtcI"
      }
    },
    {
      "cell_type": "code",
      "source": [
        "#Create a function to process the data into 7 day look back slices\n",
        "def processData(data, lb):\n",
        "  X, Y = [], []\n",
        "  for i in range(len(data) - lb - 1):\n",
        "    X.append(data[i: (i + lb), 0])\n",
        "    Y.append(data[(i + lb), 0])\n",
        "  return np.array(X), np.array(Y)\n",
        "\n",
        "X, y = processData(data_pnc, 7)"
      ],
      "metadata": {
        "id": "q7KEpfwJUe5a"
      },
      "execution_count": 10,
      "outputs": []
    },
    {
      "cell_type": "markdown",
      "source": [
        "## Step 3: Split training and testing sets\n",
        "\n",
        "In order to perform proper testing on our dataset we will lop off the last 1/5 of it for validation (or testing).  \n",
        "\n",
        "Note how here we are **not** splitting the dataset *randomly* as one typically would do when validating a regression model.  This is because our input/output pairs *are related temporally*.   We don't want to validate our model by training on a random subset of the series and then testing on another random subset, as this simulates the scenario that we receive new points *within the timeframe of our training set*.  \n",
        "\n",
        "We want to train on one solid chunk of the series (in our case, the first full 4/5 of it), and validate on a later chunk (the last 1/5) as this simulates how we would predict *future* values of a time series."
      ],
      "metadata": {
        "id": "ZKO01fnfgbeU"
      }
    },
    {
      "cell_type": "code",
      "source": [
        "# Split the dataset into taining set and testing set\n",
        "X_train, X_test = X[:int(X.shape[0]*0.80)],X[int(X.shape[0]*0.80):]\n",
        "y_train, y_test = y[:int(y.shape[0]*0.80)],y[int(y.shape[0]*0.80):]\n",
        "print(X_train.shape[0])\n",
        "print(X_test.shape[0])\n",
        "print(y_train.shape[0])\n",
        "print(y_test.shape[0])"
      ],
      "metadata": {
        "colab": {
          "base_uri": "https://localhost:8080/"
        },
        "id": "weFviEBjgbRL",
        "outputId": "202e0faa-4263-45fb-86db-189c5af528ca"
      },
      "execution_count": 11,
      "outputs": [
        {
          "output_type": "stream",
          "name": "stdout",
          "text": [
            "1000\n",
            "251\n",
            "1000\n",
            "251\n"
          ]
        }
      ]
    },
    {
      "cell_type": "code",
      "source": [
        "# reshaping\n",
        "X_train = np.reshape(X_train, (X_train.shape[0], 1, X_train.shape[1]))\n",
        "X_test = np.reshape(X_test, (X_test.shape[0], 1, X_test.shape[1]))"
      ],
      "metadata": {
        "id": "9PZeV8CdgbON"
      },
      "execution_count": 12,
      "outputs": []
    },
    {
      "cell_type": "code",
      "source": [
        "X_train"
      ],
      "metadata": {
        "colab": {
          "base_uri": "https://localhost:8080/"
        },
        "id": "sgwq4C5XQ2hz",
        "outputId": "2e1a9cc5-9530-4db8-f333-83f941f49fa2"
      },
      "execution_count": 13,
      "outputs": [
        {
          "output_type": "execute_result",
          "data": {
            "text/plain": [
              "array([[[0.025714  , 0.03232036, 0.04014636, ..., 0.03099909,\n",
              "         0.03099909, 0.02734018]],\n",
              "\n",
              "       [[0.03232036, 0.04014636, 0.03404818, ..., 0.03099909,\n",
              "         0.02734018, 0.02388454]],\n",
              "\n",
              "       [[0.04014636, 0.03404818, 0.03099909, ..., 0.02734018,\n",
              "         0.02388454, 0.01595691]],\n",
              "\n",
              "       ...,\n",
              "\n",
              "       [[0.61174916, 0.61805061, 0.61815225, ..., 0.60615916,\n",
              "         0.61307043, 0.60158553]],\n",
              "\n",
              "       [[0.61805061, 0.61815225, 0.60534607, ..., 0.61307043,\n",
              "         0.60158553, 0.62343734]],\n",
              "\n",
              "       [[0.61815225, 0.60534607, 0.60615916, ..., 0.60158553,\n",
              "         0.62343734, 0.62597825]]])"
            ]
          },
          "metadata": {},
          "execution_count": 13
        }
      ]
    },
    {
      "cell_type": "markdown",
      "source": [
        "## Step 4:  Build and run an RNN regression model\n",
        "\n",
        "Having created input/output pairs out of our time series and cut this into training/testing sets, we can now begin setting up our RNN.  We use Keras to quickly build a two hidden layer RNN of the following specifications\n",
        "\n",
        "- layer 1 uses an LSTM module with 5 hidden units (note here the input_shape = (window_size,1))\n",
        "- layer 2 uses a fully connected module with one unit\n",
        "- the 'mean_squared_error' loss should be used"
      ],
      "metadata": {
        "id": "VkIxLyfB7Qux"
      }
    },
    {
      "cell_type": "code",
      "source": [
        "class RNN(nn.Module):\n",
        "  def __init__(self, input_units, hidden_units, output_units, hidden_layers, dropout=0.1, bidirectional=True):\n",
        "    super(RNN, self).__init__()\n",
        "    self.num_directions = bidirectional + 1\n",
        "    self.lstm = nn.LSTM(\n",
        "      input_size=input_units, \n",
        "      hidden_size=hidden_units, \n",
        "      num_layers=hidden_layers, \n",
        "      dropout = dropout, \n",
        "      bidirectional = bidirectional)\n",
        "    self.linear = nn.Linear(hidden_units, output_units)\n",
        "\n",
        "  def forward(self, x, hidden):\n",
        "    # get LSTM outputs\n",
        "    lstm_out, hidden_state = self.lstm(x, hidden)\n",
        "\n",
        "    # shape output\n",
        "    hidden_size = hidden_state[-1].size(-1)\n",
        "    lstm_out = lstm_out.view(-1, self.num_directions, hidden_size)\n",
        "\n",
        "    # get final output\n",
        "    model_out = self.linear(lstm_out)\n",
        "\n",
        "    return model_out, hidden_state\n",
        "    "
      ],
      "metadata": {
        "id": "d6kUFN9XQ2dD"
      },
      "execution_count": 14,
      "outputs": []
    },
    {
      "cell_type": "code",
      "source": [
        "INPUT_SIZE = 7\n",
        "HIDDEN_SIZE = 64\n",
        "NUM_LAYERS = 1\n",
        "OUTPUT_SIZE = 1\n",
        "BATCH_SIZE = 128\n",
        "# Hyper parameters\n",
        "\n",
        "learning_rate = 0.001\n",
        "num_epochs = 300\n",
        "\n",
        "rnn = RNN(INPUT_SIZE, HIDDEN_SIZE, OUTPUT_SIZE, NUM_LAYERS, bidirectional=False)\n",
        "#rnn.cuda()\n",
        "\n",
        "optimiser = torch.optim.Adam(rnn.parameters(), lr=learning_rate)\n",
        "criterion = nn.MSELoss()\n",
        "\n",
        "hidden_state = None"
      ],
      "metadata": {
        "colab": {
          "base_uri": "https://localhost:8080/"
        },
        "id": "9Lgkr7ZzQ1o5",
        "outputId": "c8a7d385-9a78-4ed9-9eda-9f25452dfdf7"
      },
      "execution_count": 15,
      "outputs": [
        {
          "output_type": "stream",
          "name": "stderr",
          "text": [
            "/usr/local/lib/python3.7/dist-packages/torch/nn/modules/rnn.py:65: UserWarning: dropout option adds dropout after all but last recurrent layer, so non-zero dropout expects num_layers greater than 1, but got dropout=0.1 and num_layers=1\n",
            "  \"num_layers={}\".format(dropout, num_layers))\n"
          ]
        }
      ]
    },
    {
      "cell_type": "code",
      "source": [
        "rnn"
      ],
      "metadata": {
        "colab": {
          "base_uri": "https://localhost:8080/"
        },
        "id": "EIbMCOo5HkqA",
        "outputId": "1d070880-f0c4-4204-9281-b7720e1e2fc4"
      },
      "execution_count": 16,
      "outputs": [
        {
          "output_type": "execute_result",
          "data": {
            "text/plain": [
              "RNN(\n",
              "  (lstm): LSTM(7, 64, dropout=0.1)\n",
              "  (linear): Linear(in_features=64, out_features=1, bias=True)\n",
              ")"
            ]
          },
          "metadata": {},
          "execution_count": 16
        }
      ]
    },
    {
      "cell_type": "code",
      "source": [
        "history = []\n",
        "X_test_cuda = torch.tensor(X_test).float()\n",
        "y_test_cuda = torch.tensor(y_test).float()\n",
        "\n",
        "# we use all the data in one batch\n",
        "inputs_cuda = torch.tensor(X_train).float()\n",
        "labels_cuda = torch.tensor(y_train).float()\n",
        "\n",
        "for epoch in range(num_epochs):\n",
        "    rnn.train()\n",
        "    output, _ = rnn(inputs_cuda, hidden_state) \n",
        "    # print(output.size())\n",
        "\n",
        "    loss = criterion(output[:,0,:].view(-1), labels_cuda)\n",
        "    optimiser.zero_grad()\n",
        "    loss.backward()                     # back propagation\n",
        "    optimiser.step()                    # update the parameters\n",
        "    \n",
        "    if epoch % 20 == 0:\n",
        "        rnn.eval()\n",
        "        test_output, _ = rnn(X_test_cuda, hidden_state)\n",
        "        test_loss = criterion(test_output.view(-1), y_test_cuda)\n",
        "        print('epoch {}, loss {}, eval loss {}'.format(epoch, loss.item(), test_loss.item()))\n",
        "    else:\n",
        "        print('epoch {}, loss {}'.format(epoch, loss.item()))\n",
        "    history.append(loss.item())"
      ],
      "metadata": {
        "id": "fIOnQBLzHknJ",
        "colab": {
          "base_uri": "https://localhost:8080/"
        },
        "outputId": "83a175ce-2df2-4e84-fa63-65d5eb884f77"
      },
      "execution_count": 17,
      "outputs": [
        {
          "output_type": "stream",
          "name": "stdout",
          "text": [
            "epoch 0, loss 0.02787753939628601, eval loss 0.3239656984806061\n",
            "epoch 1, loss 0.02289421483874321\n",
            "epoch 2, loss 0.018705066293478012\n",
            "epoch 3, loss 0.0153108611702919\n",
            "epoch 4, loss 0.012716882862150669\n",
            "epoch 5, loss 0.01092686876654625\n",
            "epoch 6, loss 0.009922775439918041\n",
            "epoch 7, loss 0.009625515900552273\n",
            "epoch 8, loss 0.009847250767052174\n",
            "epoch 9, loss 0.010288901627063751\n",
            "epoch 10, loss 0.010640851221978664\n",
            "epoch 11, loss 0.010711099952459335\n",
            "epoch 12, loss 0.010462213307619095\n",
            "epoch 13, loss 0.00996462907642126\n",
            "epoch 14, loss 0.009331096895039082\n",
            "epoch 15, loss 0.008669454604387283\n",
            "epoch 16, loss 0.008059159852564335\n",
            "epoch 17, loss 0.00754510797560215\n",
            "epoch 18, loss 0.007141273468732834\n",
            "epoch 19, loss 0.006838539615273476\n",
            "epoch 20, loss 0.006613315083086491, eval loss 0.09746355563402176\n",
            "epoch 21, loss 0.0064352513290941715\n",
            "epoch 22, loss 0.006273401901125908\n",
            "epoch 23, loss 0.006100688129663467\n",
            "epoch 24, loss 0.00589677132666111\n",
            "epoch 25, loss 0.0056495992466807365\n",
            "epoch 26, loss 0.005355835426598787\n",
            "epoch 27, loss 0.005020408425480127\n",
            "epoch 28, loss 0.004655303433537483\n",
            "epoch 29, loss 0.004277700558304787\n",
            "epoch 30, loss 0.003907451871782541\n",
            "epoch 31, loss 0.0035638483241200447\n",
            "epoch 32, loss 0.0032616816461086273\n",
            "epoch 33, loss 0.0030069141648709774\n",
            "epoch 34, loss 0.0027930212672799826\n",
            "epoch 35, loss 0.0026002300437539816\n",
            "epoch 36, loss 0.0024005225859582424\n",
            "epoch 37, loss 0.0021695736795663834\n",
            "epoch 38, loss 0.0019014710560441017\n",
            "epoch 39, loss 0.0016166727291420102\n",
            "epoch 40, loss 0.0013553701573982835, eval loss 0.005234165117144585\n",
            "epoch 41, loss 0.0011580904247239232\n",
            "epoch 42, loss 0.0010445790830999613\n",
            "epoch 43, loss 0.0010039422195404768\n",
            "epoch 44, loss 0.0010037069441750646\n",
            "epoch 45, loss 0.0010138991056010127\n",
            "epoch 46, loss 0.0010282235452905297\n",
            "epoch 47, loss 0.0010596804786473513\n",
            "epoch 48, loss 0.0011071296175941825\n",
            "epoch 49, loss 0.0011365112150087953\n",
            "epoch 50, loss 0.0011164008174091578\n",
            "epoch 51, loss 0.0010532969608902931\n",
            "epoch 52, loss 0.000976563198491931\n",
            "epoch 53, loss 0.0009074509143829346\n",
            "epoch 54, loss 0.0008498308598063886\n",
            "epoch 55, loss 0.000799734378233552\n",
            "epoch 56, loss 0.0007555045885965228\n",
            "epoch 57, loss 0.000719810021109879\n",
            "epoch 58, loss 0.0006959422025829554\n",
            "epoch 59, loss 0.0006839398993179202\n",
            "epoch 60, loss 0.0006798896356485784, eval loss 0.00566896004602313\n",
            "epoch 61, loss 0.0006783149437978864\n",
            "epoch 62, loss 0.0006752804620191455\n",
            "epoch 63, loss 0.0006698324577882886\n",
            "epoch 64, loss 0.0006631844444200397\n",
            "epoch 65, loss 0.0006568207172676921\n",
            "epoch 66, loss 0.0006510887760668993\n",
            "epoch 67, loss 0.0006450643413700163\n",
            "epoch 68, loss 0.0006374245858751237\n",
            "epoch 69, loss 0.0006275076884776354\n",
            "epoch 70, loss 0.0006158152827993035\n",
            "epoch 71, loss 0.0006037039565853775\n",
            "epoch 72, loss 0.000592558179050684\n",
            "epoch 73, loss 0.0005830436130054295\n",
            "epoch 74, loss 0.0005749453557655215\n",
            "epoch 75, loss 0.0005676512373611331\n",
            "epoch 76, loss 0.0005608409410342574\n",
            "epoch 77, loss 0.0005547929904423654\n",
            "epoch 78, loss 0.0005500811384990811\n",
            "epoch 79, loss 0.0005469804164022207\n",
            "epoch 80, loss 0.000545137794688344, eval loss 0.003303111996501684\n",
            "epoch 81, loss 0.0005437821382656693\n",
            "epoch 82, loss 0.0005422505200840533\n",
            "epoch 83, loss 0.0005403545219451189\n",
            "epoch 84, loss 0.0005383047391660511\n",
            "epoch 85, loss 0.0005363316740840673\n",
            "epoch 86, loss 0.0005343960365280509\n",
            "epoch 87, loss 0.000532238045707345\n",
            "epoch 88, loss 0.0005296689341776073\n",
            "epoch 89, loss 0.0005267828237265348\n",
            "epoch 90, loss 0.0005238943267613649\n",
            "epoch 91, loss 0.0005212940159253776\n",
            "epoch 92, loss 0.0005190676893107593\n",
            "epoch 93, loss 0.0005171195953153074\n",
            "epoch 94, loss 0.0005153309321030974\n",
            "epoch 95, loss 0.0005136839463375509\n",
            "epoch 96, loss 0.0005122508737258613\n",
            "epoch 97, loss 0.0005110892234370112\n",
            "epoch 98, loss 0.0005101603455841541\n",
            "epoch 99, loss 0.0005093421204946935\n",
            "epoch 100, loss 0.000508514407556504, eval loss 0.0022054899018257856\n",
            "epoch 101, loss 0.0005076303496025503\n",
            "epoch 102, loss 0.000506717071402818\n",
            "epoch 103, loss 0.0005058193928562105\n",
            "epoch 104, loss 0.0005049463361501694\n",
            "epoch 105, loss 0.0005040679243393242\n",
            "epoch 106, loss 0.0005031528417021036\n",
            "epoch 107, loss 0.0005022057448513806\n",
            "epoch 108, loss 0.0005012679612264037\n",
            "epoch 109, loss 0.00050038454355672\n",
            "epoch 110, loss 0.0004995724884793162\n",
            "epoch 111, loss 0.0004988166620023549\n",
            "epoch 112, loss 0.0004980930243618786\n",
            "epoch 113, loss 0.0004973923787474632\n",
            "epoch 114, loss 0.0004967229906469584\n",
            "epoch 115, loss 0.0004960933583788574\n",
            "epoch 116, loss 0.0004954964970238507\n",
            "epoch 117, loss 0.0004949106951244175\n",
            "epoch 118, loss 0.0004943156382068992\n",
            "epoch 119, loss 0.0004937050398439169\n",
            "epoch 120, loss 0.0004930860595777631, eval loss 0.0021232382860034704\n",
            "epoch 121, loss 0.0004924675449728966\n",
            "epoch 122, loss 0.0004918507183901966\n",
            "epoch 123, loss 0.0004912303993478417\n",
            "epoch 124, loss 0.0004906033864244819\n",
            "epoch 125, loss 0.0004899738705717027\n",
            "epoch 126, loss 0.0004893504665233195\n",
            "epoch 127, loss 0.0004887391696684062\n",
            "epoch 128, loss 0.00048813913599587977\n",
            "epoch 129, loss 0.0004875454178545624\n",
            "epoch 130, loss 0.0004869544063694775\n",
            "epoch 131, loss 0.0004863658978138119\n",
            "epoch 132, loss 0.0004857815511059016\n",
            "epoch 133, loss 0.0004852013662457466\n",
            "epoch 134, loss 0.00048462217091582716\n",
            "epoch 135, loss 0.0004840402107220143\n",
            "epoch 136, loss 0.0004834541759919375\n",
            "epoch 137, loss 0.00048286517267115414\n",
            "epoch 138, loss 0.00048227538354694843\n",
            "epoch 139, loss 0.00048168550711125135\n",
            "epoch 140, loss 0.00048109510680660605, eval loss 0.002051055897027254\n",
            "epoch 141, loss 0.00048050348414108157\n",
            "epoch 142, loss 0.0004799111920874566\n",
            "epoch 143, loss 0.0004793197731487453\n",
            "epoch 144, loss 0.0004787302459590137\n",
            "epoch 145, loss 0.0004781425523106009\n",
            "epoch 146, loss 0.0004775557026732713\n",
            "epoch 147, loss 0.0004769688530359417\n",
            "epoch 148, loss 0.0004763821489177644\n",
            "epoch 149, loss 0.0004757957940455526\n",
            "epoch 150, loss 0.0004752099048346281\n",
            "epoch 151, loss 0.0004746236954815686\n",
            "epoch 152, loss 0.000474036845844239\n",
            "epoch 153, loss 0.0004734491230919957\n",
            "epoch 154, loss 0.0004728608764708042\n",
            "epoch 155, loss 0.0004722726298496127\n",
            "epoch 156, loss 0.0004716845287475735\n",
            "epoch 157, loss 0.00047109631123021245\n",
            "epoch 158, loss 0.0004705080355051905\n",
            "epoch 159, loss 0.00046991975978016853\n",
            "epoch 160, loss 0.0004693319497164339, eval loss 0.001973045989871025\n",
            "epoch 161, loss 0.00046874451800249517\n",
            "epoch 162, loss 0.00046815743553452194\n",
            "epoch 163, loss 0.00046757046948187053\n",
            "epoch 164, loss 0.0004669835325330496\n",
            "epoch 165, loss 0.0004663967411033809\n",
            "epoch 166, loss 0.0004658099787775427\n",
            "epoch 167, loss 0.0004652233619708568\n",
            "epoch 168, loss 0.00046463674516417086\n",
            "epoch 169, loss 0.00046405004104599357\n",
            "epoch 170, loss 0.00046346333692781627\n",
            "epoch 171, loss 0.0004628766037058085\n",
            "epoch 172, loss 0.00046229001600295305\n",
            "epoch 173, loss 0.0004617036029230803\n",
            "epoch 174, loss 0.00046111736446619034\n",
            "epoch 175, loss 0.00046053098049014807\n",
            "epoch 176, loss 0.0004599449457600713\n",
            "epoch 177, loss 0.0004593589692376554\n",
            "epoch 178, loss 0.0004587731964420527\n",
            "epoch 179, loss 0.00045818754006177187\n",
            "epoch 180, loss 0.00045760211651213467, eval loss 0.001899292808957398\n",
            "epoch 181, loss 0.000457016663858667\n",
            "epoch 182, loss 0.0004564313858281821\n",
            "epoch 183, loss 0.00045584619510918856\n",
            "epoch 184, loss 0.00045526117901317775\n",
            "epoch 185, loss 0.0004546761920209974\n",
            "epoch 186, loss 0.0004540913214441389\n",
            "epoch 187, loss 0.00045350659638643265\n",
            "epoch 188, loss 0.00045292204595170915\n",
            "epoch 189, loss 0.0004523375246208161\n",
            "epoch 190, loss 0.00045175320701673627\n",
            "epoch 191, loss 0.00045116894762031734\n",
            "epoch 192, loss 0.0004505849501583725\n",
            "epoch 193, loss 0.0004500010109040886\n",
            "epoch 194, loss 0.000449417217168957\n",
            "epoch 195, loss 0.00044883351074531674\n",
            "epoch 196, loss 0.00044825003715232015\n",
            "epoch 197, loss 0.00044766662176698446\n",
            "epoch 198, loss 0.00044708335190080106\n",
            "epoch 199, loss 0.00044650016934610903\n",
            "epoch 200, loss 0.00044591710320673883, eval loss 0.0018286046106368303\n",
            "epoch 201, loss 0.00044533415348269045\n",
            "epoch 202, loss 0.0004447514074854553\n",
            "epoch 203, loss 0.00044416874879971147\n",
            "epoch 204, loss 0.00044358617742545903\n",
            "epoch 205, loss 0.00044300378067418933\n",
            "epoch 206, loss 0.000442421471234411\n",
            "epoch 207, loss 0.00044183924910612404\n",
            "epoch 208, loss 0.00044125717249698937\n",
            "epoch 209, loss 0.0004406752996146679\n",
            "epoch 210, loss 0.00044009339762851596\n",
            "epoch 211, loss 0.00043951181578449905\n",
            "epoch 212, loss 0.00043893014662899077\n",
            "epoch 213, loss 0.00043834865209646523\n",
            "epoch 214, loss 0.00043776733218692243\n",
            "epoch 215, loss 0.00043718607048504055\n",
            "epoch 216, loss 0.00043660489609465003\n",
            "epoch 217, loss 0.00043602389632724226\n",
            "epoch 218, loss 0.00043544298387132585\n",
            "epoch 219, loss 0.0004348621005192399\n",
            "epoch 220, loss 0.00043428136268630624, eval loss 0.0017600313294678926\n",
            "epoch 221, loss 0.00043370077037252486\n",
            "epoch 222, loss 0.0004331202362664044\n",
            "epoch 223, loss 0.0004325397894717753\n",
            "epoch 224, loss 0.00043195951730012894\n",
            "epoch 225, loss 0.0004313792160246521\n",
            "epoch 226, loss 0.00043079903116449714\n",
            "epoch 227, loss 0.0004302189336158335\n",
            "epoch 228, loss 0.00042963895248249173\n",
            "epoch 229, loss 0.00042905902955681086\n",
            "epoch 230, loss 0.00042847913573496044\n",
            "epoch 231, loss 0.00042789935832843184\n",
            "epoch 232, loss 0.00042731963912956417\n",
            "epoch 233, loss 0.00042673994903452694\n",
            "epoch 234, loss 0.0004261604626663029\n",
            "epoch 235, loss 0.0004255808889865875\n",
            "epoch 236, loss 0.00042500143172219396\n",
            "epoch 237, loss 0.0004244219744578004\n",
            "epoch 238, loss 0.0004238426045048982\n",
            "epoch 239, loss 0.00042326326365582645\n",
            "epoch 240, loss 0.0004226839228067547, eval loss 0.0016922680661082268\n",
            "epoch 241, loss 0.0004221046983730048\n",
            "epoch 242, loss 0.0004215253866277635\n",
            "epoch 243, loss 0.00042094624950550497\n",
            "epoch 244, loss 0.0004203669959679246\n",
            "epoch 245, loss 0.00041978791705332696\n",
            "epoch 246, loss 0.00041920875082723796\n",
            "epoch 247, loss 0.00041862958460114896\n",
            "epoch 248, loss 0.0004180504765827209\n",
            "epoch 249, loss 0.00041747139766812325\n",
            "epoch 250, loss 0.00041689223144203424\n",
            "epoch 251, loss 0.00041631306521594524\n",
            "epoch 252, loss 0.0004157339280936867\n",
            "epoch 253, loss 0.00041515479097142816\n",
            "epoch 254, loss 0.0004145755956415087\n",
            "epoch 255, loss 0.00041399640031158924\n",
            "epoch 256, loss 0.0004134171758778393\n",
            "epoch 257, loss 0.00041283792234025896\n",
            "epoch 258, loss 0.00041225861059501767\n",
            "epoch 259, loss 0.0004116792406421155\n",
            "epoch 260, loss 0.00041109989979304373, eval loss 0.0016245737206190825\n",
            "epoch 261, loss 0.0004105204134248197\n",
            "epoch 262, loss 0.0004099408979527652\n",
            "epoch 263, loss 0.00040936132427304983\n",
            "epoch 264, loss 0.0004087817796971649\n",
            "epoch 265, loss 0.0004082020604982972\n",
            "epoch 266, loss 0.00040762225398793817\n",
            "epoch 267, loss 0.0004070423892699182\n",
            "epoch 268, loss 0.00040646243724040687\n",
            "epoch 269, loss 0.00040588239789940417\n",
            "epoch 270, loss 0.0004053022130392492\n",
            "epoch 271, loss 0.0004047219408676028\n",
            "epoch 272, loss 0.00040414155228063464\n",
            "epoch 273, loss 0.00040356110548600554\n",
            "epoch 274, loss 0.0004029804840683937\n",
            "epoch 275, loss 0.0004023997753392905\n",
            "epoch 276, loss 0.0004018189792986959\n",
            "epoch 277, loss 0.0004012379504274577\n",
            "epoch 278, loss 0.000400656892452389\n",
            "epoch 279, loss 0.0004000755725428462\n",
            "epoch 280, loss 0.00039949416532181203, eval loss 0.001556149683892727\n",
            "epoch 281, loss 0.00039891255437396467\n",
            "epoch 282, loss 0.00039833085611462593\n",
            "epoch 283, loss 0.000397748954128474\n",
            "epoch 284, loss 0.0003971669066231698\n",
            "epoch 285, loss 0.0003965846844948828\n",
            "epoch 286, loss 0.00039600225863978267\n",
            "epoch 287, loss 0.00039541965816169977\n",
            "epoch 288, loss 0.0003948368539568037\n",
            "epoch 289, loss 0.00039425393333658576\n",
            "epoch 290, loss 0.00039367075078189373\n",
            "epoch 291, loss 0.0003930874227080494\n",
            "epoch 292, loss 0.000392503832699731\n",
            "epoch 293, loss 0.00039192006806842983\n",
            "epoch 294, loss 0.0003913360123988241\n",
            "epoch 295, loss 0.00039075189852155745\n",
            "epoch 296, loss 0.00039016740629449487\n",
            "epoch 297, loss 0.00038958276854828\n",
            "epoch 298, loss 0.00038899783976376057\n",
            "epoch 299, loss 0.0003884127945639193\n"
          ]
        }
      ]
    },
    {
      "cell_type": "code",
      "source": [
        "rnn.linear.weight"
      ],
      "metadata": {
        "id": "ycaqKhaVHklB",
        "colab": {
          "base_uri": "https://localhost:8080/"
        },
        "outputId": "67d48803-e9d4-434a-e592-31289bdc0851"
      },
      "execution_count": 18,
      "outputs": [
        {
          "output_type": "execute_result",
          "data": {
            "text/plain": [
              "Parameter containing:\n",
              "tensor([[-0.0341, -0.1278, -0.0968, -0.0093,  0.1260, -0.0093,  0.0537,  0.0671,\n",
              "          0.1258,  0.1132,  0.0881,  0.0576, -0.0012,  0.0518,  0.0496, -0.1480,\n",
              "         -0.0894, -0.1305, -0.1584,  0.0580,  0.0019,  0.0777,  0.0584, -0.0707,\n",
              "         -0.0487,  0.0726,  0.0881,  0.0287,  0.0779, -0.0737, -0.0413,  0.1056,\n",
              "         -0.0547,  0.0312, -0.1209,  0.0976,  0.0748,  0.0199,  0.1190, -0.0707,\n",
              "         -0.0161, -0.0593, -0.0538, -0.0474, -0.0335, -0.1257,  0.0692,  0.0016,\n",
              "          0.0923,  0.0429,  0.0972,  0.1103,  0.1339,  0.0216, -0.0385, -0.0657,\n",
              "         -0.0453,  0.1280, -0.0896, -0.0486, -0.0595, -0.1325, -0.0899,  0.1086]],\n",
              "       requires_grad=True)"
            ]
          },
          "metadata": {},
          "execution_count": 18
        }
      ]
    },
    {
      "cell_type": "code",
      "source": [
        "for param in rnn.parameters():\n",
        "  print(param)"
      ],
      "metadata": {
        "id": "J_lUdm2lHkiW",
        "colab": {
          "base_uri": "https://localhost:8080/"
        },
        "outputId": "9fdd516c-112a-47b9-b6a8-8ada83f6c8b5"
      },
      "execution_count": 19,
      "outputs": [
        {
          "output_type": "stream",
          "name": "stdout",
          "text": [
            "Parameter containing:\n",
            "tensor([[ 0.1155,  0.1313, -0.0158,  ...,  0.1170,  0.0582, -0.0393],\n",
            "        [ 0.0279,  0.0746,  0.0426,  ...,  0.1272,  0.0823,  0.0967],\n",
            "        [ 0.1354, -0.0915,  0.1039,  ..., -0.0584,  0.1579, -0.0777],\n",
            "        ...,\n",
            "        [-0.1349, -0.0982, -0.0743,  ..., -0.1176, -0.0416,  0.0515],\n",
            "        [ 0.0070, -0.0166, -0.0404,  ...,  0.1427,  0.0696,  0.1840],\n",
            "        [ 0.1459,  0.1027,  0.1448,  ..., -0.0535,  0.1669,  0.0235]],\n",
            "       requires_grad=True)\n",
            "Parameter containing:\n",
            "tensor([[ 0.0235,  0.0557,  0.0456,  ...,  0.0250,  0.0362,  0.0587],\n",
            "        [-0.0360, -0.0155,  0.0321,  ..., -0.0481, -0.1252,  0.1413],\n",
            "        [ 0.0595,  0.1023,  0.0696,  ...,  0.0767, -0.0748, -0.0392],\n",
            "        ...,\n",
            "        [ 0.0700,  0.0971, -0.1045,  ...,  0.1430,  0.1610,  0.0119],\n",
            "        [-0.0466, -0.1353,  0.0021,  ...,  0.0357,  0.0866,  0.0726],\n",
            "        [-0.0035, -0.0455, -0.1484,  ...,  0.0843, -0.0289, -0.0292]],\n",
            "       requires_grad=True)\n",
            "Parameter containing:\n",
            "tensor([ 0.0461, -0.0897, -0.0809, -0.1266, -0.1163, -0.1397, -0.0355,  0.0432,\n",
            "        -0.0999,  0.0200, -0.0661, -0.0762,  0.1031, -0.0960, -0.0828,  0.0406,\n",
            "         0.0677, -0.1093,  0.1280,  0.0925, -0.0566,  0.1037, -0.0947,  0.0848,\n",
            "         0.1012,  0.1753, -0.0967,  0.0111,  0.0553,  0.0054,  0.0012,  0.1699,\n",
            "        -0.0795,  0.0307,  0.1155, -0.0597,  0.0404,  0.0258,  0.0872,  0.0024,\n",
            "        -0.0277,  0.0823,  0.0020, -0.0533, -0.0914, -0.0363, -0.0570,  0.1220,\n",
            "        -0.1443, -0.0430,  0.0132,  0.0833, -0.1037, -0.0700, -0.0026,  0.0204,\n",
            "        -0.0475, -0.1091,  0.0546,  0.1009, -0.0085,  0.0351,  0.0229, -0.0964,\n",
            "         0.0540,  0.0926,  0.0636, -0.0584, -0.0717,  0.0643, -0.0368, -0.1114,\n",
            "         0.0761, -0.0185,  0.0061,  0.0652,  0.0527, -0.1101, -0.0097,  0.0479,\n",
            "        -0.0878, -0.0510,  0.0474, -0.0379,  0.1055, -0.0820,  0.0840, -0.0589,\n",
            "         0.0010, -0.0048, -0.0335, -0.1163,  0.0451, -0.0092, -0.0723,  0.1306,\n",
            "        -0.0640, -0.0745, -0.0505,  0.0916,  0.0218,  0.0797,  0.0493,  0.0895,\n",
            "         0.1197,  0.0229,  0.0595, -0.0081, -0.0563, -0.0400,  0.0807, -0.0209,\n",
            "        -0.1253, -0.0210,  0.0531, -0.0027, -0.0427,  0.0830,  0.0230,  0.0616,\n",
            "        -0.0288,  0.0690, -0.1071, -0.0561, -0.0626,  0.0202,  0.0345,  0.1304,\n",
            "        -0.0516,  0.0534,  0.0855, -0.1069, -0.0679,  0.0348,  0.0347, -0.1103,\n",
            "        -0.0888, -0.0218,  0.0809,  0.1084,  0.0179,  0.0545,  0.0447,  0.1160,\n",
            "         0.0687,  0.0471,  0.1083, -0.1102, -0.1208, -0.0367, -0.0791, -0.0120,\n",
            "         0.0735, -0.0760, -0.1158, -0.0392,  0.0944, -0.0062, -0.0367, -0.0725,\n",
            "         0.0107,  0.0245, -0.0558, -0.0990, -0.0202, -0.0797,  0.0667, -0.0734,\n",
            "         0.1074,  0.0328,  0.0937, -0.1134,  0.0173,  0.0080, -0.0405, -0.0777,\n",
            "         0.0753, -0.0075, -0.1192, -0.0132, -0.0330, -0.0113,  0.0329, -0.0410,\n",
            "         0.0744,  0.0140, -0.0742,  0.0024,  0.1240,  0.1134,  0.0937, -0.0137,\n",
            "         0.0803,  0.1020,  0.1119,  0.0397, -0.0378, -0.1358, -0.0229,  0.0176,\n",
            "        -0.1254,  0.0035, -0.0864,  0.0513,  0.0125,  0.0164, -0.0956,  0.1221,\n",
            "        -0.0481, -0.0407,  0.1326, -0.1025, -0.1015,  0.0406, -0.1082, -0.0278,\n",
            "        -0.0130,  0.2009, -0.0228,  0.0832,  0.0514,  0.0083,  0.0443,  0.0013,\n",
            "        -0.0728,  0.1019, -0.0262,  0.0739,  0.0166,  0.0236,  0.0320, -0.0380,\n",
            "        -0.0148, -0.1071,  0.0826, -0.0309,  0.1144,  0.1342, -0.0623, -0.0236,\n",
            "        -0.0732,  0.0408, -0.0071,  0.0851,  0.0295, -0.0229,  0.0545,  0.0251,\n",
            "         0.1053, -0.0691, -0.0752,  0.0527, -0.0148,  0.1313, -0.0518, -0.0535],\n",
            "       requires_grad=True)\n",
            "Parameter containing:\n",
            "tensor([-5.9875e-02, -2.1813e-02,  2.6701e-02, -8.4014e-02,  3.7397e-02,\n",
            "         6.4213e-02,  1.0902e-02, -7.0582e-02, -5.5834e-02, -8.3124e-02,\n",
            "        -4.9159e-02,  2.8248e-02, -2.2828e-02,  4.7853e-02,  1.0324e-01,\n",
            "        -6.7652e-02, -6.4268e-02, -5.8687e-02, -8.8294e-02,  1.9733e-02,\n",
            "         8.3312e-02,  1.2220e-01, -1.1250e-01,  9.9686e-02, -3.6910e-03,\n",
            "         2.0345e-01, -1.1645e-02,  3.8507e-03, -5.8789e-02, -1.9037e-02,\n",
            "         9.6098e-02, -1.4059e-02, -1.1579e-01, -1.5650e-02, -6.7897e-04,\n",
            "         5.5270e-02, -4.2247e-02,  1.5371e-01,  3.5699e-02, -1.0849e-01,\n",
            "         5.9020e-02,  2.9035e-02, -5.3613e-02,  1.0278e-01, -8.3139e-02,\n",
            "         5.1831e-02, -3.9896e-02,  7.1008e-02, -6.5457e-02,  3.0515e-02,\n",
            "         1.3462e-01, -1.0198e-01,  9.0033e-02,  1.0600e-01,  1.0184e-01,\n",
            "         1.0407e-01,  1.0873e-01, -9.3448e-02, -8.3030e-02,  8.9735e-02,\n",
            "         7.1979e-02,  4.2210e-02,  1.5696e-01, -5.2647e-02, -2.8455e-02,\n",
            "        -9.1004e-02, -1.0148e-01, -1.0218e-01, -5.5129e-02,  1.3806e-02,\n",
            "        -6.3198e-02,  1.9860e-02, -2.3715e-02,  7.8670e-03,  1.1735e-02,\n",
            "        -2.3836e-02, -1.0389e-01, -1.9994e-02,  1.8802e-02,  8.2961e-02,\n",
            "         9.7818e-02,  1.0828e-01, -3.9008e-02, -5.3330e-02,  1.1851e-02,\n",
            "         1.0979e-01, -1.6581e-02, -9.1554e-02,  7.1756e-02, -1.8886e-02,\n",
            "        -1.1124e-01, -1.0767e-01,  9.5534e-02,  6.1182e-02, -9.4168e-02,\n",
            "         1.0229e-02,  3.3564e-02,  5.2568e-02,  3.3964e-02,  8.0090e-03,\n",
            "        -1.0291e-01,  1.3961e-01,  8.8797e-02,  1.6729e-03, -4.8898e-02,\n",
            "        -1.2118e-01,  1.1216e-01,  3.6653e-02,  3.2786e-02,  2.1051e-02,\n",
            "        -5.1883e-02,  5.3513e-02, -4.0998e-02,  3.4405e-02, -8.5262e-02,\n",
            "        -2.4869e-02, -4.0244e-03,  2.5373e-02,  7.3776e-02, -6.3486e-02,\n",
            "        -7.1432e-02, -2.0767e-02,  4.2237e-02, -4.4691e-02,  4.3246e-02,\n",
            "         1.2569e-01,  7.8762e-02, -8.6709e-03, -2.4057e-02, -4.8667e-02,\n",
            "        -1.1338e-01, -8.9076e-02,  1.3751e-02,  5.3388e-02, -3.8703e-02,\n",
            "        -7.0492e-02,  9.0537e-02,  1.0750e-01,  1.0610e-01, -4.6036e-02,\n",
            "         1.1020e-01, -4.4874e-02, -6.2657e-02, -5.6561e-02,  6.3302e-02,\n",
            "        -1.0086e-01, -3.2966e-02, -8.8359e-02,  6.3392e-02, -6.0277e-02,\n",
            "        -2.0930e-02, -8.8528e-03,  1.2450e-01,  2.2379e-02,  1.5824e-02,\n",
            "        -9.2762e-02,  7.0670e-02, -9.5682e-03,  1.2352e-01, -7.4278e-02,\n",
            "         5.8946e-02, -1.1159e-01, -2.1282e-03, -4.1072e-02,  6.7270e-02,\n",
            "        -6.2097e-03,  4.9374e-02, -5.2384e-02,  1.1132e-01, -9.6280e-02,\n",
            "        -1.3124e-02,  9.7924e-02,  1.0274e-01,  8.0570e-02, -9.2321e-02,\n",
            "         5.1991e-02,  6.0342e-02,  4.2045e-02,  1.0597e-01,  4.0253e-02,\n",
            "         8.6795e-02,  2.0046e-02,  3.9709e-03, -1.0704e-01,  7.1867e-02,\n",
            "         1.6030e-02, -9.7798e-02, -7.3857e-02,  9.2096e-03,  8.4364e-02,\n",
            "         1.9483e-02,  2.0696e-02,  8.4732e-03,  6.6306e-02, -4.8551e-03,\n",
            "        -3.9126e-02, -6.5738e-02, -1.1651e-01, -8.2984e-02,  2.6655e-02,\n",
            "        -8.8248e-02, -1.2564e-01,  6.9430e-02,  1.1655e-01, -8.9307e-02,\n",
            "        -1.5020e-02, -5.0073e-02,  1.5560e-01, -9.2860e-03,  1.3318e-01,\n",
            "        -5.4955e-03,  9.5560e-02, -4.3863e-02, -4.5718e-02, -2.0690e-02,\n",
            "        -9.9925e-02, -1.6975e-02, -9.3147e-06, -8.8417e-02, -1.0164e-01,\n",
            "        -1.3618e-01,  3.7134e-02, -4.1759e-02, -5.8843e-02, -5.2680e-02,\n",
            "        -5.2472e-02,  1.0928e-01, -1.2988e-01, -1.4243e-01, -9.6279e-02,\n",
            "         6.6523e-02, -7.3082e-02,  5.4599e-02,  9.6582e-02,  5.2312e-02,\n",
            "        -3.1768e-02,  5.4425e-02,  1.6811e-01, -9.0312e-02, -4.6341e-02,\n",
            "         5.0013e-02,  8.2470e-02,  7.8462e-02,  1.0760e-03,  8.9888e-03,\n",
            "         4.4546e-02,  2.5535e-02, -1.0286e-01,  6.5510e-02,  4.9324e-02,\n",
            "        -1.2253e-01,  1.9708e-02, -9.5172e-02,  4.9607e-02,  1.1455e-01,\n",
            "         5.0870e-02], requires_grad=True)\n",
            "Parameter containing:\n",
            "tensor([[-0.0341, -0.1278, -0.0968, -0.0093,  0.1260, -0.0093,  0.0537,  0.0671,\n",
            "          0.1258,  0.1132,  0.0881,  0.0576, -0.0012,  0.0518,  0.0496, -0.1480,\n",
            "         -0.0894, -0.1305, -0.1584,  0.0580,  0.0019,  0.0777,  0.0584, -0.0707,\n",
            "         -0.0487,  0.0726,  0.0881,  0.0287,  0.0779, -0.0737, -0.0413,  0.1056,\n",
            "         -0.0547,  0.0312, -0.1209,  0.0976,  0.0748,  0.0199,  0.1190, -0.0707,\n",
            "         -0.0161, -0.0593, -0.0538, -0.0474, -0.0335, -0.1257,  0.0692,  0.0016,\n",
            "          0.0923,  0.0429,  0.0972,  0.1103,  0.1339,  0.0216, -0.0385, -0.0657,\n",
            "         -0.0453,  0.1280, -0.0896, -0.0486, -0.0595, -0.1325, -0.0899,  0.1086]],\n",
            "       requires_grad=True)\n",
            "Parameter containing:\n",
            "tensor([0.1135], requires_grad=True)\n"
          ]
        }
      ]
    },
    {
      "cell_type": "markdown",
      "source": [
        "## Step 5: Checking model performance\n",
        "\n",
        "With our model fit we can now make predictions on both our training and testing sets."
      ],
      "metadata": {
        "id": "mbbAH96AlXGw"
      }
    },
    {
      "cell_type": "code",
      "source": [
        "# plot the loss trend\n",
        "plt.plot(history)"
      ],
      "metadata": {
        "id": "UiapazEmHkfe",
        "colab": {
          "base_uri": "https://localhost:8080/",
          "height": 284
        },
        "outputId": "97b75a58-2931-4e5b-e7cd-7ac327bfcd50"
      },
      "execution_count": 20,
      "outputs": [
        {
          "output_type": "execute_result",
          "data": {
            "text/plain": [
              "[<matplotlib.lines.Line2D at 0x7f4dd4c57790>]"
            ]
          },
          "metadata": {},
          "execution_count": 20
        },
        {
          "output_type": "display_data",
          "data": {
            "text/plain": [
              "<Figure size 432x288 with 1 Axes>"
            ],
            "image/png": "[encoded data removed]"
          },
          "metadata": {
            "needs_background": "light"
          }
        }
      ]
    },
    {
      "cell_type": "code",
      "source": [
        "rnn.eval()\n",
        "# test_inputs = torch.tensor(X_test).float().cuda()\n",
        "test_predict, _ = rnn(X_test_cuda, hidden_state)\n",
        "test_predict_cpu = test_predict.cpu().detach().numpy()"
      ],
      "metadata": {
        "id": "7UkEFQ1UHkck"
      },
      "execution_count": 21,
      "outputs": []
    },
    {
      "cell_type": "code",
      "source": [
        "mse = 0\n",
        "\n",
        "for i in range(y_test.shape[0]):\n",
        "  mse += pow((test_predict_cpu[i] - y_test[i]), 2)\n",
        "\n",
        "mse = mse/y_test.shape[0]\n",
        "\n",
        "print(mse)\n"
      ],
      "metadata": {
        "colab": {
          "base_uri": "https://localhost:8080/"
        },
        "id": "mJuMtPONsGL-",
        "outputId": "23d2fed0-7dae-4976-94ee-3beba2b8a58a"
      },
      "execution_count": 29,
      "outputs": [
        {
          "output_type": "stream",
          "name": "stdout",
          "text": [
            "[[0.00071727]]\n"
          ]
        }
      ]
    },
    {
      "cell_type": "code",
      "source": [
        "test_predict_cpu.shape"
      ],
      "metadata": {
        "colab": {
          "base_uri": "https://localhost:8080/"
        },
        "id": "8xHSaHhRmQw1",
        "outputId": "44ce0512-120f-4966-9537-ce6fa85d26bf"
      },
      "execution_count": 22,
      "outputs": [
        {
          "output_type": "execute_result",
          "data": {
            "text/plain": [
              "(251, 1, 1)"
            ]
          },
          "metadata": {},
          "execution_count": 22
        }
      ]
    },
    {
      "cell_type": "code",
      "source": [
        "plt.plot(scaler.inverse_transform(y_test.reshape(-1,1)))\n",
        "plt.plot(scaler.inverse_transform(test_predict_cpu.reshape(-1,1)))"
      ],
      "metadata": {
        "colab": {
          "base_uri": "https://localhost:8080/",
          "height": 284
        },
        "id": "ULCItz4fmRnO",
        "outputId": "00d5368b-6d74-4be4-ee97-846a253aca53"
      },
      "execution_count": 23,
      "outputs": [
        {
          "output_type": "execute_result",
          "data": {
            "text/plain": [
              "[<matplotlib.lines.Line2D at 0x7f4dd4c87750>]"
            ]
          },
          "metadata": {},
          "execution_count": 23
        },
        {
          "output_type": "display_data",
          "data": {
            "text/plain": [
              "<Figure size 432x288 with 1 Axes>"
            ],
            "image/png": "[encoded data removed]"
          },
          "metadata": {
            "needs_background": "light"
          }
        }
      ]
    },
    {
      "cell_type": "code",
      "source": [
        "# plot original data\n",
        "plt.plot(scaler.inverse_transform(y.reshape(-1,1)), color='k')\n",
        "\n",
        "# train_inputs = torch.tensor(X_train).float().cuda()\n",
        "train_pred, hidden_state = rnn(inputs_cuda, None)\n",
        "train_pred_cpu = train_pred.cpu().detach().numpy()\n",
        "\n",
        "# use hidden state from previous training data\n",
        "test_predict, _ = rnn(X_test_cuda, hidden_state)\n",
        "test_predict_cpu = test_predict.cpu().detach().numpy()\n",
        "\n",
        "# plt.plot(scl.inverse_transform(y_test.reshape(-1,1)))\n",
        "split_pt = int(X.shape[0] * 0.80) + 7 # window_size\n",
        "plt.plot(np.arange(7, split_pt, 1), scaler.inverse_transform(train_pred_cpu.reshape(-1,1)), color='b')\n",
        "plt.plot(np.arange(split_pt, split_pt + len(test_predict_cpu), 1), scaler.inverse_transform(test_predict_cpu.reshape(-1,1)), color='r')\n",
        "\n",
        "# pretty up graph\n",
        "plt.xlabel('Days')\n",
        "plt.ylabel('Price of PNC stock')\n",
        "plt.legend(['original series','training fit','testing fit'], loc='center left', bbox_to_anchor=(1, 0.5))\n",
        "plt.show()"
      ],
      "metadata": {
        "colab": {
          "base_uri": "https://localhost:8080/",
          "height": 279
        },
        "id": "BjmQwXySmRko",
        "outputId": "761878f2-ae51-4e5e-f9df-c8fde5e0f1f5"
      },
      "execution_count": 24,
      "outputs": [
        {
          "output_type": "display_data",
          "data": {
            "text/plain": [
              "<Figure size 432x288 with 1 Axes>"
            ],
            "image/png": "[encoded data removed]"
          },
          "metadata": {
            "needs_background": "light"
          }
        }
      ]
    },
    {
      "cell_type": "code",
      "source": [
        ""
      ],
      "metadata": {
        "id": "2o4Ow1L8mRiy"
      },
      "execution_count": null,
      "outputs": []
    }
  ]
}